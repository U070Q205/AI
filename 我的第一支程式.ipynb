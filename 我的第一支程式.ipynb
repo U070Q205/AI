{
  "nbformat": 4,
  "nbformat_minor": 0,
  "metadata": {
    "colab": {
      "name": "我的第一支程式",
      "version": "0.3.2",
      "provenance": [],
      "include_colab_link": true
    },
    "kernelspec": {
      "name": "python3",
      "display_name": "Python 3"
    }
  },
  "cells": [
    {
      "cell_type": "markdown",
      "metadata": {
        "id": "view-in-github",
        "colab_type": "text"
      },
      "source": [
        "<a href=\"https://colab.research.google.com/github/U070Q205/AI/blob/master/%E6%88%91%E7%9A%84%E7%AC%AC%E4%B8%80%E6%94%AF%E7%A8%8B%E5%BC%8F.ipynb\" target=\"_parent\"><img src=\"https://colab.research.google.com/assets/colab-badge.svg\" alt=\"Open In Colab\"/></a>"
      ]
    },
    {
      "metadata": {
        "id": "psLZLfvztTgR",
        "colab_type": "code",
        "colab": {}
      },
      "cell_type": "code",
      "source": [
        "#!/usr/bin/env python\n",
        "#coding=utf-8\n",
        "\n",
        "# radius = 25 \n",
        "# Input(輸入):Prompt the user to enter a radius\n",
        "radius = eval(input(\"Enter a number for radius: \"))\n",
        "\n",
        "# Processing(處理):Compute area\n",
        "area = radius * radius * 3.1415962\n",
        "\n",
        "# Output(輸出):Display results\n",
        "print(\"The area for the circle of radius\", radius, \"is\", area)"
      ],
      "execution_count": 0,
      "outputs": []
    },
    {
      "metadata": {
        "id": "6d0eyPIctaBP",
        "colab_type": "code",
        "colab": {
          "base_uri": "https://localhost:8080/",
          "height": 69
        },
        "outputId": "8c94affb-d690-42e4-c80f-9b6070a2c75a"
      },
      "cell_type": "code",
      "source": [
        "#!/usr/bin/env python\n",
        "#coding=utf-8\n",
        "\n",
        "\n",
        "Length = eval(input(\"請輸入四方型的長度大小\"))\n",
        "\n",
        "\n",
        "width = eval(input(\"請輸入四方型寬度大小\"))\n",
        "\n",
        "\n",
        "perimeter=2*(Length + width)\n",
        "\n",
        "\n",
        "area = Length * width\n",
        "\n",
        "\n",
        "print(\"四方型長度為\", Length, \"寬度為\", width,\"的面積是\",area,\"的周長是\",perimeter)\n"
      ],
      "execution_count": 2,
      "outputs": [
        {
          "output_type": "stream",
          "text": [
            "請輸入四方型的長度大小100\n",
            "請輸入四方型寬度大小20\n",
            "四方型長度為 100 寬度為 20 的面積是 2000 的周長是 240\n"
          ],
          "name": "stdout"
        }
      ]
    }
  ]
}