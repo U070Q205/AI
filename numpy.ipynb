{
  "nbformat": 4,
  "nbformat_minor": 0,
  "metadata": {
    "colab": {
      "name": "numpy.ipynb",
      "version": "0.3.2",
      "provenance": [],
      "collapsed_sections": [],
      "include_colab_link": true
    },
    "kernelspec": {
      "name": "python3",
      "display_name": "Python 3"
    }
  },
  "cells": [
    {
      "cell_type": "markdown",
      "metadata": {
        "id": "view-in-github",
        "colab_type": "text"
      },
      "source": [
        "<a href=\"https://colab.research.google.com/github/U070Q205/AI/blob/master/numpy.ipynb\" target=\"_parent\"><img src=\"https://colab.research.google.com/assets/colab-badge.svg\" alt=\"Open In Colab\"/></a>"
      ]
    },
    {
      "cell_type": "markdown",
      "metadata": {
        "id": "83SQz1WsG8Ja",
        "colab_type": "text"
      },
      "source": [
        ""
      ]
    },
    {
      "cell_type": "markdown",
      "metadata": {
        "id": "S8quIZNaHM2q",
        "colab_type": "text"
      },
      "source": [
        "#numpy\n",
        "#偉大的龍大大"
      ]
    },
    {
      "cell_type": "code",
      "metadata": {
        "id": "dTvxD9CIGjxk",
        "colab_type": "code",
        "colab": {
          "base_uri": "https://localhost:8080/",
          "height": 34
        },
        "outputId": "8629ad69-5055-40bb-9ee5-5046ec09e568"
      },
      "source": [
        "import pandas as pd\n",
        "print(\"pandas version: %s\" % pd.__version__)"
      ],
      "execution_count": 1,
      "outputs": [
        {
          "output_type": "stream",
          "text": [
            "pandas version: 0.24.2\n"
          ],
          "name": "stdout"
        }
      ]
    },
    {
      "cell_type": "code",
      "metadata": {
        "id": "AWoZ0lRCGgrz",
        "colab_type": "code",
        "colab": {}
      },
      "source": [
        "import pandas as pd\n",
        "print(“pandas version: %s” % pd.__version__)\n",
        "import matplotlib\n",
        "print(\"matplotlib version: %s\" % matplotlib.__version__)\n",
        "import numpy as np\n",
        "print(\"numpy version: %s\" % np.__version__)\n",
        "import sklearn\n",
        "print(\"scikit-learn version: %s\" % sklearn.__version__)"
      ],
      "execution_count": 0,
      "outputs": []
    },
    {
      "cell_type": "markdown",
      "metadata": {
        "id": "8UTbczXUKFtz",
        "colab_type": "text"
      },
      "source": [
        "#建立array(陣列)\n",
        "###使用np.array()建立陣列"
      ]
    },
    {
      "cell_type": "code",
      "metadata": {
        "id": "6WUvrIorKFEq",
        "colab_type": "code",
        "colab": {
          "base_uri": "https://localhost:8080/",
          "height": 68
        },
        "outputId": "ab6030cc-9bf7-42dc-f572-77e0888b721a"
      },
      "source": [
        "import numpy as np\n",
        "x = np.array([[1,2.0],[0,0],(1+1j,3.)])\n",
        "print(x)"
      ],
      "execution_count": 2,
      "outputs": [
        {
          "output_type": "stream",
          "text": [
            "[[1.+0.j 2.+0.j]\n",
            " [0.+0.j 0.+0.j]\n",
            " [1.+1.j 3.+0.j]]\n"
          ],
          "name": "stdout"
        }
      ]
    },
    {
      "cell_type": "markdown",
      "metadata": {
        "id": "nUITg36_LIPV",
        "colab_type": "text"
      },
      "source": [
        "#使用numpy提供的創建函數直接生成\n"
      ]
    },
    {
      "cell_type": "code",
      "metadata": {
        "id": "mZa3IBHOLSTq",
        "colab_type": "code",
        "colab": {
          "base_uri": "https://localhost:8080/",
          "height": 204
        },
        "outputId": "a379b921-8117-4659-96f3-af1637f23c3c"
      },
      "source": [
        "import numpy as np\n",
        "x=np.zeros((2, 3))\n",
        "y=np.arange(2, 3, 0.1) # start, end, step\n",
        "z=np.linspace(1., 4., 6) # start, end, num\n",
        "w=np.indices((3, 3))\n",
        "print(x)\n",
        "print(y)\n",
        "print(z)\n",
        "print(w)\n"
      ],
      "execution_count": 3,
      "outputs": [
        {
          "output_type": "stream",
          "text": [
            "[[0. 0. 0.]\n",
            " [0. 0. 0.]]\n",
            "[2.  2.1 2.2 2.3 2.4 2.5 2.6 2.7 2.8 2.9]\n",
            "[1.  1.6 2.2 2.8 3.4 4. ]\n",
            "[[[0 0 0]\n",
            "  [1 1 1]\n",
            "  [2 2 2]]\n",
            "\n",
            " [[0 1 2]\n",
            "  [0 1 2]\n",
            "  [0 1 2]]]\n"
          ],
          "name": "stdout"
        }
      ]
    },
    {
      "cell_type": "code",
      "metadata": {
        "id": "QYkz-NLDMTvq",
        "colab_type": "code",
        "colab": {
          "base_uri": "https://localhost:8080/",
          "height": 34
        },
        "outputId": "8a438bc8-9171-40c6-b2fc-766ac0c8978a"
      },
      "source": [
        "import numpy as np\n",
        "\n",
        "z=np.linspace(1., 4., 6) # start, end, num\n",
        "\n",
        "print(z)\n"
      ],
      "execution_count": 4,
      "outputs": [
        {
          "output_type": "stream",
          "text": [
            "[1.  1.6 2.2 2.8 3.4 4. ]\n"
          ],
          "name": "stdout"
        }
      ]
    },
    {
      "cell_type": "code",
      "metadata": {
        "id": "O5xl4_llPeBy",
        "colab_type": "code",
        "colab": {
          "base_uri": "https://localhost:8080/",
          "height": 34
        },
        "outputId": "ff55438f-6e25-4e54-919e-471beb8687c5"
      },
      "source": [
        "import numpy as np\n",
        "\n",
        "#z=np.linspace(1., 4., 6) # start, end, num\n",
        "z=np.linspace(2.0, 3.0, num=5)\n",
        "\n",
        "print(z)"
      ],
      "execution_count": 5,
      "outputs": [
        {
          "output_type": "stream",
          "text": [
            "[2.   2.25 2.5  2.75 3.  ]\n"
          ],
          "name": "stdout"
        }
      ]
    },
    {
      "cell_type": "code",
      "metadata": {
        "id": "c3LYyffAPocC",
        "colab_type": "code",
        "colab": {
          "base_uri": "https://localhost:8080/",
          "height": 34
        },
        "outputId": "90c77aa3-a4f9-4f1b-e620-5595cd6a8315"
      },
      "source": [
        "import numpy as np\n",
        "\n",
        "#z=np.linspace(1., 4., 6) # start, end, num\n",
        "z=np.linspace(2.0, 3.0, num=5, endpoint=False)\n",
        "\n",
        "print(z)"
      ],
      "execution_count": 6,
      "outputs": [
        {
          "output_type": "stream",
          "text": [
            "[2.  2.2 2.4 2.6 2.8]\n"
          ],
          "name": "stdout"
        }
      ]
    },
    {
      "cell_type": "code",
      "metadata": {
        "id": "1GSQHDelPye6",
        "colab_type": "code",
        "colab": {
          "base_uri": "https://localhost:8080/",
          "height": 34
        },
        "outputId": "c3c15968-eed3-4c0d-9e5a-1af4313c3b1d"
      },
      "source": [
        "import numpy as np\n",
        "\n",
        "#z=np.linspace(1., 4., 6) # start, end, num\n",
        "z=np.linspace(2.0, 3.0, num=5, retstep=True)\n",
        "\n",
        "print(z)"
      ],
      "execution_count": 7,
      "outputs": [
        {
          "output_type": "stream",
          "text": [
            "(array([2.  , 2.25, 2.5 , 2.75, 3.  ]), 0.25)\n"
          ],
          "name": "stdout"
        }
      ]
    },
    {
      "cell_type": "markdown",
      "metadata": {
        "id": "RUnVUe82Q9yK",
        "colab_type": "text"
      },
      "source": [
        "#作業1:下列輸出有何不同?\n",
        "\n",
        "np.linspace(2.0, 3.0, num=5)\n",
        "\n",
        "np.linspace(2.0, 3.0, num=5, endpoint=False)\n",
        "\n",
        "np.linspace(2.0, 3.0, num=5, retstep=True)\n",
        "參考資料:\n",
        "\n",
        "https://docs.scipy.org/doc/numpy/reference/generated/numpy.linspace.html"
      ]
    },
    {
      "cell_type": "code",
      "metadata": {
        "id": "hBB70fMlQjTS",
        "colab_type": "code",
        "colab": {
          "base_uri": "https://localhost:8080/",
          "height": 68
        },
        "outputId": "dd846119-3094-4f91-fd74-1823b3083f7c"
      },
      "source": [
        "import numpy as np\n",
        "\n",
        "#z=np.linspace(1., 4., 6) # start, end, num\n",
        "x=np.linspace(2.0, 3.0, num=5)\n",
        "\n",
        "y=np.linspace(2.0, 3.0, num=5, endpoint=False)\n",
        "\n",
        "z=np.linspace(2.0, 3.0, num=5, retstep=True)\n",
        "\n",
        "print(x)\n",
        "print(y)\n",
        "print(z)"
      ],
      "execution_count": 8,
      "outputs": [
        {
          "output_type": "stream",
          "text": [
            "[2.   2.25 2.5  2.75 3.  ]\n",
            "[2.  2.2 2.4 2.6 2.8]\n",
            "(array([2.  , 2.25, 2.5 , 2.75, 3.  ]), 0.25)\n"
          ],
          "name": "stdout"
        }
      ]
    },
    {
      "cell_type": "code",
      "metadata": {
        "id": "l3o8fVUgT57z",
        "colab_type": "code",
        "colab": {}
      },
      "source": [
        "import numpy as np\n",
        "\n",
        "a=np.array([[0,1],[2,3]])\n",
        "\n",
        "a.reshape(1,4)\n",
        "a.reshape(4,1)\n"
      ],
      "execution_count": 0,
      "outputs": []
    },
    {
      "cell_type": "code",
      "metadata": {
        "id": "f8pAd7cDUFWJ",
        "colab_type": "code",
        "colab": {
          "base_uri": "https://localhost:8080/",
          "height": 51
        },
        "outputId": "b61a7798-2e97-4367-8eda-d076642c1e86"
      },
      "source": [
        "import numpy as np\n",
        "\n",
        "x = np.arange(2,10).reshape(2,4)\n",
        "x\n"
      ],
      "execution_count": 10,
      "outputs": [
        {
          "output_type": "execute_result",
          "data": {
            "text/plain": [
              "array([[2, 3, 4, 5],\n",
              "       [6, 7, 8, 9]])"
            ]
          },
          "metadata": {
            "tags": []
          },
          "execution_count": 10
        }
      ]
    },
    {
      "cell_type": "code",
      "metadata": {
        "id": "aWSoqMohUZyZ",
        "colab_type": "code",
        "colab": {
          "base_uri": "https://localhost:8080/",
          "height": 85
        },
        "outputId": "8be5a44b-aecb-4aac-c11a-af35bae9dbcd"
      },
      "source": [
        "import numpy as np\n",
        "\n",
        "x = np.arange(2,10).reshape(4,2)\n",
        "x"
      ],
      "execution_count": 11,
      "outputs": [
        {
          "output_type": "execute_result",
          "data": {
            "text/plain": [
              "array([[2, 3],\n",
              "       [4, 5],\n",
              "       [6, 7],\n",
              "       [8, 9]])"
            ]
          },
          "metadata": {
            "tags": []
          },
          "execution_count": 11
        }
      ]
    },
    {
      "cell_type": "code",
      "metadata": {
        "id": "kZ5jNn5WVQ76",
        "colab_type": "code",
        "colab": {
          "base_uri": "https://localhost:8080/",
          "height": 255
        },
        "outputId": "77d89bcc-56ab-4b08-ea1d-7acfe7e2c9c5"
      },
      "source": [
        "import numpy as np\n",
        "\n",
        "x = np.arange(24).reshape(3,4,2)\n",
        "\n",
        "x\n"
      ],
      "execution_count": 19,
      "outputs": [
        {
          "output_type": "execute_result",
          "data": {
            "text/plain": [
              "array([[[ 0,  1],\n",
              "        [ 2,  3],\n",
              "        [ 4,  5],\n",
              "        [ 6,  7]],\n",
              "\n",
              "       [[ 8,  9],\n",
              "        [10, 11],\n",
              "        [12, 13],\n",
              "        [14, 15]],\n",
              "\n",
              "       [[16, 17],\n",
              "        [18, 19],\n",
              "        [20, 21],\n",
              "        [22, 23]]])"
            ]
          },
          "metadata": {
            "tags": []
          },
          "execution_count": 19
        }
      ]
    },
    {
      "cell_type": "code",
      "metadata": {
        "id": "1V4f-lA8VkKx",
        "colab_type": "code",
        "colab": {
          "base_uri": "https://localhost:8080/",
          "height": 272
        },
        "outputId": "1e7a804a-c4ae-4389-dcbc-681f650096e3"
      },
      "source": [
        "import numpy as np\n",
        "\n",
        "x = np.arange(24).reshape(4,3,2)\n",
        "\n",
        "\n",
        "x"
      ],
      "execution_count": 18,
      "outputs": [
        {
          "output_type": "execute_result",
          "data": {
            "text/plain": [
              "array([[[ 0,  1],\n",
              "        [ 2,  3],\n",
              "        [ 4,  5]],\n",
              "\n",
              "       [[ 6,  7],\n",
              "        [ 8,  9],\n",
              "        [10, 11]],\n",
              "\n",
              "       [[12, 13],\n",
              "        [14, 15],\n",
              "        [16, 17]],\n",
              "\n",
              "       [[18, 19],\n",
              "        [20, 21],\n",
              "        [22, 23]]])"
            ]
          },
          "metadata": {
            "tags": []
          },
          "execution_count": 18
        }
      ]
    },
    {
      "cell_type": "code",
      "metadata": {
        "id": "UrgWQa6nWNEZ",
        "colab_type": "code",
        "colab": {
          "base_uri": "https://localhost:8080/",
          "height": 306
        },
        "outputId": "1ceb3f5d-7008-49fb-f6dd-d48a1e811587"
      },
      "source": [
        "import numpy as np\n",
        "\n",
        "x = np.arange(24).reshape(6,2,2)\n",
        "\n",
        "\n",
        "x"
      ],
      "execution_count": 20,
      "outputs": [
        {
          "output_type": "execute_result",
          "data": {
            "text/plain": [
              "array([[[ 0,  1],\n",
              "        [ 2,  3]],\n",
              "\n",
              "       [[ 4,  5],\n",
              "        [ 6,  7]],\n",
              "\n",
              "       [[ 8,  9],\n",
              "        [10, 11]],\n",
              "\n",
              "       [[12, 13],\n",
              "        [14, 15]],\n",
              "\n",
              "       [[16, 17],\n",
              "        [18, 19]],\n",
              "\n",
              "       [[20, 21],\n",
              "        [22, 23]]])"
            ]
          },
          "metadata": {
            "tags": []
          },
          "execution_count": 20
        }
      ]
    },
    {
      "cell_type": "markdown",
      "metadata": {
        "id": "eyPwwiz0LIHK",
        "colab_type": "text"
      },
      "source": [
        ""
      ]
    },
    {
      "cell_type": "code",
      "metadata": {
        "id": "JWSPR_4gYtHa",
        "colab_type": "code",
        "colab": {
          "base_uri": "https://localhost:8080/",
          "height": 34
        },
        "outputId": "d3affcc6-7536-4eab-e12f-9263a3c3f324"
      },
      "source": [
        "ar2=np.array([[0,3,5],[2,8,7]]) # 2D array\n",
        "ar2.shape\n"
      ],
      "execution_count": 23,
      "outputs": [
        {
          "output_type": "execute_result",
          "data": {
            "text/plain": [
              "(2, 3)"
            ]
          },
          "metadata": {
            "tags": []
          },
          "execution_count": 23
        }
      ]
    },
    {
      "cell_type": "code",
      "metadata": {
        "id": "F4FGULmCY4zg",
        "colab_type": "code",
        "colab": {
          "base_uri": "https://localhost:8080/",
          "height": 34
        },
        "outputId": "aaf14753-6971-45a6-da5b-03e6b321e296"
      },
      "source": [
        "ar2=np.array([[0,3,5],[2,8,7]]) # 2D array\n",
        "ar2.shape\n",
        "ar2.ndim\n"
      ],
      "execution_count": 24,
      "outputs": [
        {
          "output_type": "execute_result",
          "data": {
            "text/plain": [
              "2"
            ]
          },
          "metadata": {
            "tags": []
          },
          "execution_count": 24
        }
      ]
    },
    {
      "cell_type": "code",
      "metadata": {
        "id": "e7-KWBCbZCNK",
        "colab_type": "code",
        "colab": {
          "base_uri": "https://localhost:8080/",
          "height": 34
        },
        "outputId": "225660f5-3cbb-4a04-cac2-ee7c5aca00ba"
      },
      "source": [
        "x = np.arange(4)\n",
        "x"
      ],
      "execution_count": 26,
      "outputs": [
        {
          "output_type": "execute_result",
          "data": {
            "text/plain": [
              "array([0, 1, 2, 3])"
            ]
          },
          "metadata": {
            "tags": []
          },
          "execution_count": 26
        }
      ]
    },
    {
      "cell_type": "code",
      "metadata": {
        "id": "moPUEb_iZGyb",
        "colab_type": "code",
        "colab": {
          "base_uri": "https://localhost:8080/",
          "height": 85
        },
        "outputId": "a4d26c88-e6b5-489a-dd21-06f3c21c1b48"
      },
      "source": [
        "x2 = x.reshape(4,1)\n",
        "x2"
      ],
      "execution_count": 27,
      "outputs": [
        {
          "output_type": "execute_result",
          "data": {
            "text/plain": [
              "array([[0],\n",
              "       [1],\n",
              "       [2],\n",
              "       [3]])"
            ]
          },
          "metadata": {
            "tags": []
          },
          "execution_count": 27
        }
      ]
    },
    {
      "cell_type": "code",
      "metadata": {
        "id": "O9iNcL0NZQ4Z",
        "colab_type": "code",
        "colab": {
          "base_uri": "https://localhost:8080/",
          "height": 51
        },
        "outputId": "ce6051f0-2279-4c35-8b7d-cbad283b624a"
      },
      "source": [
        "ar=np.array([np.arange(1,6),np.arange(10,15)]); \n",
        "ar\n"
      ],
      "execution_count": 28,
      "outputs": [
        {
          "output_type": "execute_result",
          "data": {
            "text/plain": [
              "array([[ 1,  2,  3,  4,  5],\n",
              "       [10, 11, 12, 13, 14]])"
            ]
          },
          "metadata": {
            "tags": []
          },
          "execution_count": 28
        }
      ]
    },
    {
      "cell_type": "code",
      "metadata": {
        "id": "_j5goIVnZSpq",
        "colab_type": "code",
        "colab": {
          "base_uri": "https://localhost:8080/",
          "height": 34
        },
        "outputId": "1d9c05c3-5cc1-4d99-9d18-1184f6567490"
      },
      "source": [
        "ar=np.array([np.arange(1,6),np.arange(10,15)]); \n",
        "ar\n",
        "ar.ravel()\n"
      ],
      "execution_count": 29,
      "outputs": [
        {
          "output_type": "execute_result",
          "data": {
            "text/plain": [
              "array([ 1,  2,  3,  4,  5, 10, 11, 12, 13, 14])"
            ]
          },
          "metadata": {
            "tags": []
          },
          "execution_count": 29
        }
      ]
    },
    {
      "cell_type": "code",
      "metadata": {
        "id": "bCePgAvmZaHM",
        "colab_type": "code",
        "colab": {
          "base_uri": "https://localhost:8080/",
          "height": 34
        },
        "outputId": "fcec4eb3-ecb4-4bf9-9770-16f64377561a"
      },
      "source": [
        "ar=np.array([np.arange(1,6),np.arange(10,15)]); \n",
        "ar\n",
        "ar.T.ravel()\n"
      ],
      "execution_count": 30,
      "outputs": [
        {
          "output_type": "execute_result",
          "data": {
            "text/plain": [
              "array([ 1, 10,  2, 11,  3, 12,  4, 13,  5, 14])"
            ]
          },
          "metadata": {
            "tags": []
          },
          "execution_count": 30
        }
      ]
    },
    {
      "cell_type": "code",
      "metadata": {
        "id": "A2WDIl8mZm_C",
        "colab_type": "code",
        "colab": {
          "base_uri": "https://localhost:8080/",
          "height": 85
        },
        "outputId": "09f85ea9-f3a0-4c0f-b4ca-757d3b5c565e"
      },
      "source": [
        "x = np.random.rand(4,2)\n",
        "x"
      ],
      "execution_count": 31,
      "outputs": [
        {
          "output_type": "execute_result",
          "data": {
            "text/plain": [
              "array([[0.95163229, 0.39201957],\n",
              "       [0.01014668, 0.72115042],\n",
              "       [0.1028202 , 0.88759175],\n",
              "       [0.96793156, 0.72593015]])"
            ]
          },
          "metadata": {
            "tags": []
          },
          "execution_count": 31
        }
      ]
    },
    {
      "cell_type": "code",
      "metadata": {
        "id": "LgJcH0GuZzYx",
        "colab_type": "code",
        "colab": {
          "base_uri": "https://localhost:8080/",
          "height": 85
        },
        "outputId": "be40c18b-4bea-4050-8da9-1a86b853c243"
      },
      "source": [
        "x = np.random.rand(4,2)\n",
        "x"
      ],
      "execution_count": 32,
      "outputs": [
        {
          "output_type": "execute_result",
          "data": {
            "text/plain": [
              "array([[0.77530702, 0.88386957],\n",
              "       [0.77190928, 0.82635222],\n",
              "       [0.4138098 , 0.97947442],\n",
              "       [0.93235176, 0.88845857]])"
            ]
          },
          "metadata": {
            "tags": []
          },
          "execution_count": 32
        }
      ]
    },
    {
      "cell_type": "code",
      "metadata": {
        "id": "8uIkDJL1Z5B0",
        "colab_type": "code",
        "colab": {
          "base_uri": "https://localhost:8080/",
          "height": 272
        },
        "outputId": "bdf24485-54dd-4eee-c4c5-4c357112cbc9"
      },
      "source": [
        "x = np.random.rand(4,3,2)\n",
        "x"
      ],
      "execution_count": 33,
      "outputs": [
        {
          "output_type": "execute_result",
          "data": {
            "text/plain": [
              "array([[[0.96860287, 0.19194528],\n",
              "        [0.92338   , 0.10058948],\n",
              "        [0.93094116, 0.44467081]],\n",
              "\n",
              "       [[0.181185  , 0.43005021],\n",
              "        [0.197726  , 0.18066934],\n",
              "        [0.00760663, 0.6858386 ]],\n",
              "\n",
              "       [[0.2600401 , 0.56730694],\n",
              "        [0.48514691, 0.7604357 ],\n",
              "        [0.27510559, 0.5470777 ]],\n",
              "\n",
              "       [[0.49548638, 0.25484183],\n",
              "        [0.69799258, 0.99048326],\n",
              "        [0.89165332, 0.21498579]]])"
            ]
          },
          "metadata": {
            "tags": []
          },
          "execution_count": 33
        }
      ]
    },
    {
      "cell_type": "code",
      "metadata": {
        "id": "oDgIkxgiaDJ5",
        "colab_type": "code",
        "colab": {
          "base_uri": "https://localhost:8080/",
          "height": 34
        },
        "outputId": "c849fc0e-5c1b-46a8-f6d9-b5bb42ce62b4"
      },
      "source": [
        "x = np.random.randint(1,size=5)   # 返回[0,1)之間的整數，所以只有0\n",
        "                                                     #  array([0, 0, 0, 0, 0])\n",
        "y = np.random.randint(1,5)           # 返回1个[1,5)时间的随机整数\n",
        "                                                     # 4\n",
        "z = np.random.randint(-5,5,size=(2,2))\n",
        "\n",
        "                                                   # array([[ 2, -1],\n",
        "                                                                 #[ 2,  0]])\n",
        "x\n",
        "\n"
      ],
      "execution_count": 40,
      "outputs": [
        {
          "output_type": "execute_result",
          "data": {
            "text/plain": [
              "array([0, 0, 0, 0, 0])"
            ]
          },
          "metadata": {
            "tags": []
          },
          "execution_count": 40
        }
      ]
    },
    {
      "cell_type": "code",
      "metadata": {
        "id": "jGBlfpUsamBp",
        "colab_type": "code",
        "colab": {
          "base_uri": "https://localhost:8080/",
          "height": 34
        },
        "outputId": "9a0688ee-cd8d-4227-eae0-f7218e28e529"
      },
      "source": [
        "y = np.random.randint(1,5)           # 返回1个[1,5)时间的随机整数\n",
        "                                                     # 4\n",
        "y"
      ],
      "execution_count": 41,
      "outputs": [
        {
          "output_type": "execute_result",
          "data": {
            "text/plain": [
              "1"
            ]
          },
          "metadata": {
            "tags": []
          },
          "execution_count": 41
        }
      ]
    },
    {
      "cell_type": "code",
      "metadata": {
        "id": "wcNmSd9Casm5",
        "colab_type": "code",
        "colab": {
          "base_uri": "https://localhost:8080/",
          "height": 51
        },
        "outputId": "24de585a-62a2-48a0-f640-03a488fd789a"
      },
      "source": [
        "z = np.random.randint(-5,5,size=(2,2))\n",
        "\n",
        "                                                   # array([[ 2, -1],\n",
        "                                                                 #[ 2,  0]])\n",
        "z"
      ],
      "execution_count": 42,
      "outputs": [
        {
          "output_type": "execute_result",
          "data": {
            "text/plain": [
              "array([[ 0, -3],\n",
              "       [ 1,  1]])"
            ]
          },
          "metadata": {
            "tags": []
          },
          "execution_count": 42
        }
      ]
    },
    {
      "cell_type": "code",
      "metadata": {
        "id": "2yYdYEWka9Wh",
        "colab_type": "code",
        "colab": {
          "base_uri": "https://localhost:8080/",
          "height": 34
        },
        "outputId": "f4b396c4-5c7e-4da6-9147-4164a2bb05d7"
      },
      "source": [
        "np.random.seed(0)\n",
        "np.random.rand(5)\n"
      ],
      "execution_count": 43,
      "outputs": [
        {
          "output_type": "execute_result",
          "data": {
            "text/plain": [
              "array([0.5488135 , 0.71518937, 0.60276338, 0.54488318, 0.4236548 ])"
            ]
          },
          "metadata": {
            "tags": []
          },
          "execution_count": 43
        }
      ]
    },
    {
      "cell_type": "code",
      "metadata": {
        "id": "fpmiu8zLbCyJ",
        "colab_type": "code",
        "colab": {
          "base_uri": "https://localhost:8080/",
          "height": 34
        },
        "outputId": "01da63ff-8ed5-4d8b-9cf5-b202811f07a9"
      },
      "source": [
        "np.random.seed(1676)\n",
        "np.random.rand(5)\n"
      ],
      "execution_count": 44,
      "outputs": [
        {
          "output_type": "execute_result",
          "data": {
            "text/plain": [
              "array([0.39983389, 0.29426895, 0.89541728, 0.71807369, 0.3531823 ])"
            ]
          },
          "metadata": {
            "tags": []
          },
          "execution_count": 44
        }
      ]
    },
    {
      "cell_type": "code",
      "metadata": {
        "id": "uxu4dhG8bF9S",
        "colab_type": "code",
        "colab": {
          "base_uri": "https://localhost:8080/",
          "height": 34
        },
        "outputId": "82d8a4bb-9913-423f-8191-2bfba5ea1aa4"
      },
      "source": [
        "np.random.seed(1676)\n",
        "np.random.rand(5)\n"
      ],
      "execution_count": 45,
      "outputs": [
        {
          "output_type": "execute_result",
          "data": {
            "text/plain": [
              "array([0.39983389, 0.29426895, 0.89541728, 0.71807369, 0.3531823 ])"
            ]
          },
          "metadata": {
            "tags": []
          },
          "execution_count": 45
        }
      ]
    },
    {
      "cell_type": "code",
      "metadata": {
        "id": "1dU9F0s8bMID",
        "colab_type": "code",
        "colab": {
          "base_uri": "https://localhost:8080/",
          "height": 323
        },
        "outputId": "43dfd261-3fc0-4103-bd0c-70306094294d"
      },
      "source": [
        "import numpy as np\n",
        "np.random.seed(0) \n",
        "\n",
        "x1 = np.random.randint(10, size=6) \n",
        "x2 = np.random.randint(10, size=(3, 4)) \n",
        "x3 = np.random.randint(10, size=(3, 4, 5))  \n",
        "print(x1)\n",
        "print(x2)\n",
        "print(x3)"
      ],
      "execution_count": 47,
      "outputs": [
        {
          "output_type": "stream",
          "text": [
            "[5 0 3 3 7 9]\n",
            "[[3 5 2 4]\n",
            " [7 6 8 8]\n",
            " [1 6 7 7]]\n",
            "[[[8 1 5 9 8]\n",
            "  [9 4 3 0 3]\n",
            "  [5 0 2 3 8]\n",
            "  [1 3 3 3 7]]\n",
            "\n",
            " [[0 1 9 9 0]\n",
            "  [4 7 3 2 7]\n",
            "  [2 0 0 4 5]\n",
            "  [5 6 8 4 1]]\n",
            "\n",
            " [[4 9 8 1 1]\n",
            "  [7 9 9 3 6]\n",
            "  [7 2 0 3 5]\n",
            "  [9 4 4 6 4]]]\n"
          ],
          "name": "stdout"
        }
      ]
    },
    {
      "cell_type": "code",
      "metadata": {
        "id": "dQ33MrLlbeih",
        "colab_type": "code",
        "colab": {
          "base_uri": "https://localhost:8080/",
          "height": 34
        },
        "outputId": "90cc23ce-dfc3-4daf-c7e4-927e348f71c8"
      },
      "source": [
        "x1 = np.random.randint(10, size=6) \n",
        "x1"
      ],
      "execution_count": 49,
      "outputs": [
        {
          "output_type": "execute_result",
          "data": {
            "text/plain": [
              "array([3, 7, 5, 5, 0, 1])"
            ]
          },
          "metadata": {
            "tags": []
          },
          "execution_count": 49
        }
      ]
    },
    {
      "cell_type": "code",
      "metadata": {
        "id": "acqNDUh0bhnq",
        "colab_type": "code",
        "colab": {
          "base_uri": "https://localhost:8080/",
          "height": 68
        },
        "outputId": "e3f01e91-4a47-4339-aaf3-56530a66d8a4"
      },
      "source": [
        "x2 = np.random.randint(10, size=(3, 4))\n",
        "x2"
      ],
      "execution_count": 50,
      "outputs": [
        {
          "output_type": "execute_result",
          "data": {
            "text/plain": [
              "array([[5, 9, 3, 0],\n",
              "       [5, 0, 1, 2],\n",
              "       [4, 2, 0, 3]])"
            ]
          },
          "metadata": {
            "tags": []
          },
          "execution_count": 50
        }
      ]
    },
    {
      "cell_type": "code",
      "metadata": {
        "id": "J5C_CgzdbqNo",
        "colab_type": "code",
        "colab": {
          "base_uri": "https://localhost:8080/",
          "height": 255
        },
        "outputId": "d90e8939-0d0e-42d1-c1c1-085e58abb14b"
      },
      "source": [
        "x3 = np.random.randint(10, size=(3, 4, 5))  \n",
        "x3"
      ],
      "execution_count": 51,
      "outputs": [
        {
          "output_type": "execute_result",
          "data": {
            "text/plain": [
              "array([[[2, 0, 7, 5, 9],\n",
              "        [0, 2, 7, 2, 9],\n",
              "        [2, 3, 3, 2, 3],\n",
              "        [4, 1, 2, 9, 1]],\n",
              "\n",
              "       [[4, 6, 8, 2, 3],\n",
              "        [0, 0, 6, 0, 6],\n",
              "        [3, 3, 8, 8, 8],\n",
              "        [2, 3, 2, 0, 8]],\n",
              "\n",
              "       [[8, 3, 8, 2, 8],\n",
              "        [4, 3, 0, 4, 3],\n",
              "        [6, 9, 8, 0, 8],\n",
              "        [5, 9, 0, 9, 6]]])"
            ]
          },
          "metadata": {
            "tags": []
          },
          "execution_count": 51
        }
      ]
    },
    {
      "cell_type": "code",
      "metadata": {
        "id": "JcWpGuNIbxa6",
        "colab_type": "code",
        "colab": {
          "base_uri": "https://localhost:8080/",
          "height": 68
        },
        "outputId": "e010b77a-8034-48bc-e328-bafaa35a9487"
      },
      "source": [
        "ar9 = np.eye(3);\n",
        "ar9\n"
      ],
      "execution_count": 52,
      "outputs": [
        {
          "output_type": "execute_result",
          "data": {
            "text/plain": [
              "array([[1., 0., 0.],\n",
              "       [0., 1., 0.],\n",
              "       [0., 0., 1.]])"
            ]
          },
          "metadata": {
            "tags": []
          },
          "execution_count": 52
        }
      ]
    },
    {
      "cell_type": "code",
      "metadata": {
        "id": "G6bFg2DDb1Qi",
        "colab_type": "code",
        "colab": {
          "base_uri": "https://localhost:8080/",
          "height": 85
        },
        "outputId": "9d8b595b-c613-4bed-956b-36cf617cff54"
      },
      "source": [
        "ar10=np.diag((2,1,4,6));\n",
        "ar10\n"
      ],
      "execution_count": 53,
      "outputs": [
        {
          "output_type": "execute_result",
          "data": {
            "text/plain": [
              "array([[2, 0, 0, 0],\n",
              "       [0, 1, 0, 0],\n",
              "       [0, 0, 4, 0],\n",
              "       [0, 0, 0, 6]])"
            ]
          },
          "metadata": {
            "tags": []
          },
          "execution_count": 53
        }
      ]
    },
    {
      "cell_type": "code",
      "metadata": {
        "id": "PwnTNtnHb5qC",
        "colab_type": "code",
        "colab": {
          "base_uri": "https://localhost:8080/",
          "height": 68
        },
        "outputId": "b3236a72-ed95-4ea0-c127-2ffe38754835"
      },
      "source": [
        "import numpy as np\n",
        "np.array([range(i, i + 3) for i in [2, 4, 6]])\n"
      ],
      "execution_count": 54,
      "outputs": [
        {
          "output_type": "execute_result",
          "data": {
            "text/plain": [
              "array([[2, 3, 4],\n",
              "       [4, 5, 6],\n",
              "       [6, 7, 8]])"
            ]
          },
          "metadata": {
            "tags": []
          },
          "execution_count": 54
        }
      ]
    },
    {
      "cell_type": "code",
      "metadata": {
        "id": "9TGBzXd8b_Ua",
        "colab_type": "code",
        "colab": {
          "base_uri": "https://localhost:8080/",
          "height": 68
        },
        "outputId": "9aec8e94-b0b8-45de-81a0-02cfca0162f8"
      },
      "source": [
        "import numpy as np\n",
        "np.array([range(i, i + 3) for i in [2, 4, 6]])\n"
      ],
      "execution_count": 55,
      "outputs": [
        {
          "output_type": "execute_result",
          "data": {
            "text/plain": [
              "array([[2, 3, 4],\n",
              "       [4, 5, 6],\n",
              "       [6, 7, 8]])"
            ]
          },
          "metadata": {
            "tags": []
          },
          "execution_count": 55
        }
      ]
    },
    {
      "cell_type": "markdown",
      "metadata": {
        "id": "VVBP8HkCcFzp",
        "colab_type": "text"
      },
      "source": [
        "#作業:下列答案為何?\n",
        "##np.tile(np.array([[1,2],[6,7]]),3)\n",
        "##np.tile(np.array([[1,2],[6,7]]),(2,2))\n"
      ]
    },
    {
      "cell_type": "code",
      "metadata": {
        "id": "xfA8erUjcee6",
        "colab_type": "code",
        "colab": {
          "base_uri": "https://localhost:8080/",
          "height": 51
        },
        "outputId": "2b02ef94-c984-43e7-88c3-815184910af4"
      },
      "source": [
        "np.tile(np.array([[1,2],[6,7]]),3)\n"
      ],
      "execution_count": 56,
      "outputs": [
        {
          "output_type": "execute_result",
          "data": {
            "text/plain": [
              "array([[1, 2, 1, 2, 1, 2],\n",
              "       [6, 7, 6, 7, 6, 7]])"
            ]
          },
          "metadata": {
            "tags": []
          },
          "execution_count": 56
        }
      ]
    },
    {
      "cell_type": "code",
      "metadata": {
        "id": "J3WmOf5HclhR",
        "colab_type": "code",
        "colab": {
          "base_uri": "https://localhost:8080/",
          "height": 85
        },
        "outputId": "3bf3ad41-46a1-468b-c314-c3728730d72c"
      },
      "source": [
        "np.tile(np.array([[1,2],[6,7]]),(2,2))\n"
      ],
      "execution_count": 57,
      "outputs": [
        {
          "output_type": "execute_result",
          "data": {
            "text/plain": [
              "array([[1, 2, 1, 2],\n",
              "       [6, 7, 6, 7],\n",
              "       [1, 2, 1, 2],\n",
              "       [6, 7, 6, 7]])"
            ]
          },
          "metadata": {
            "tags": []
          },
          "execution_count": 57
        }
      ]
    },
    {
      "cell_type": "code",
      "metadata": {
        "id": "wL1uOG9Jctht",
        "colab_type": "code",
        "colab": {
          "base_uri": "https://localhost:8080/",
          "height": 34
        },
        "outputId": "ff4111c3-bd8f-4882-ff2f-1b9f7ed4055c"
      },
      "source": [
        "import numpy as np\n",
        "x1 = np.random.randint(10, size=6)\n",
        "x1 \n"
      ],
      "execution_count": 60,
      "outputs": [
        {
          "output_type": "execute_result",
          "data": {
            "text/plain": [
              "array([5, 3, 1, 8, 0, 4])"
            ]
          },
          "metadata": {
            "tags": []
          },
          "execution_count": 60
        }
      ]
    },
    {
      "cell_type": "code",
      "metadata": {
        "id": "bRRoN6MPdHl6",
        "colab_type": "code",
        "colab": {
          "base_uri": "https://localhost:8080/",
          "height": 34
        },
        "outputId": "e67a565a-97a7-4758-f7b0-a0f544412059"
      },
      "source": [
        "import numpy as np\n",
        "x1 = np.random.randint(10, size=6)\n",
        "x1[0]\n"
      ],
      "execution_count": 62,
      "outputs": [
        {
          "output_type": "execute_result",
          "data": {
            "text/plain": [
              "9"
            ]
          },
          "metadata": {
            "tags": []
          },
          "execution_count": 62
        }
      ]
    },
    {
      "cell_type": "code",
      "metadata": {
        "id": "uRizOjzidQYx",
        "colab_type": "code",
        "colab": {
          "base_uri": "https://localhost:8080/",
          "height": 34
        },
        "outputId": "c7a1deef-849b-45c1-a0a7-42b59766f64e"
      },
      "source": [
        "import numpy as np\n",
        "x1 = np.random.randint(10, size=6)\n",
        "x1[-2]\n"
      ],
      "execution_count": 63,
      "outputs": [
        {
          "output_type": "execute_result",
          "data": {
            "text/plain": [
              "6"
            ]
          },
          "metadata": {
            "tags": []
          },
          "execution_count": 63
        }
      ]
    },
    {
      "cell_type": "code",
      "metadata": {
        "id": "Glo_88BkdTEy",
        "colab_type": "code",
        "colab": {
          "base_uri": "https://localhost:8080/",
          "height": 34
        },
        "outputId": "1b26f996-4b54-4d14-d4f1-9909e8c726ed"
      },
      "source": [
        "import numpy as np\n",
        "x1 = np.random.randint(10, size=6)\n",
        "x1[-1]\n"
      ],
      "execution_count": 64,
      "outputs": [
        {
          "output_type": "execute_result",
          "data": {
            "text/plain": [
              "2"
            ]
          },
          "metadata": {
            "tags": []
          },
          "execution_count": 64
        }
      ]
    },
    {
      "cell_type": "code",
      "metadata": {
        "id": "g1niQDl5daPB",
        "colab_type": "code",
        "colab": {
          "base_uri": "https://localhost:8080/",
          "height": 68
        },
        "outputId": "6c656191-486f-49a8-c800-d65b07e5a64a"
      },
      "source": [
        "import numpy as np\n",
        "x2 = np.random.randint(10, size=(3, 4)) \n",
        "x2 \n"
      ],
      "execution_count": 65,
      "outputs": [
        {
          "output_type": "execute_result",
          "data": {
            "text/plain": [
              "array([[3, 6, 3, 6],\n",
              "       [5, 7, 0, 8],\n",
              "       [4, 6, 5, 8]])"
            ]
          },
          "metadata": {
            "tags": []
          },
          "execution_count": 65
        }
      ]
    }
  ]
}