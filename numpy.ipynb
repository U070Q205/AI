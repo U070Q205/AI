{
  "nbformat": 4,
  "nbformat_minor": 0,
  "metadata": {
    "colab": {
      "name": "numpy.ipynb",
      "version": "0.3.2",
      "provenance": [],
      "include_colab_link": true
    },
    "kernelspec": {
      "name": "python3",
      "display_name": "Python 3"
    }
  },
  "cells": [
    {
      "cell_type": "markdown",
      "metadata": {
        "id": "view-in-github",
        "colab_type": "text"
      },
      "source": [
        "<a href=\"https://colab.research.google.com/github/U070Q205/AI/blob/master/numpy.ipynb\" target=\"_parent\"><img src=\"https://colab.research.google.com/assets/colab-badge.svg\" alt=\"Open In Colab\"/></a>"
      ]
    },
    {
      "cell_type": "markdown",
      "metadata": {
        "id": "83SQz1WsG8Ja",
        "colab_type": "text"
      },
      "source": [
        ""
      ]
    },
    {
      "cell_type": "markdown",
      "metadata": {
        "id": "S8quIZNaHM2q",
        "colab_type": "text"
      },
      "source": [
        "#numpy\n",
        "#偉大的龍大大"
      ]
    },
    {
      "cell_type": "code",
      "metadata": {
        "id": "dTvxD9CIGjxk",
        "colab_type": "code",
        "colab": {
          "base_uri": "https://localhost:8080/",
          "height": 34
        },
        "outputId": "8629ad69-5055-40bb-9ee5-5046ec09e568"
      },
      "source": [
        "import pandas as pd\n",
        "print(\"pandas version: %s\" % pd.__version__)"
      ],
      "execution_count": 1,
      "outputs": [
        {
          "output_type": "stream",
          "text": [
            "pandas version: 0.24.2\n"
          ],
          "name": "stdout"
        }
      ]
    },
    {
      "cell_type": "code",
      "metadata": {
        "id": "AWoZ0lRCGgrz",
        "colab_type": "code",
        "colab": {}
      },
      "source": [
        "import pandas as pd\n",
        "print(“pandas version: %s” % pd.__version__)\n",
        "import matplotlib\n",
        "print(\"matplotlib version: %s\" % matplotlib.__version__)\n",
        "import numpy as np\n",
        "print(\"numpy version: %s\" % np.__version__)\n",
        "import sklearn\n",
        "print(\"scikit-learn version: %s\" % sklearn.__version__)"
      ],
      "execution_count": 0,
      "outputs": []
    },
    {
      "cell_type": "markdown",
      "metadata": {
        "id": "8UTbczXUKFtz",
        "colab_type": "text"
      },
      "source": [
        "#建立array(陣列)\n",
        "###使用np.array()建立陣列"
      ]
    },
    {
      "cell_type": "code",
      "metadata": {
        "id": "6WUvrIorKFEq",
        "colab_type": "code",
        "colab": {
          "base_uri": "https://localhost:8080/",
          "height": 68
        },
        "outputId": "ab6030cc-9bf7-42dc-f572-77e0888b721a"
      },
      "source": [
        "import numpy as np\n",
        "x = np.array([[1,2.0],[0,0],(1+1j,3.)])\n",
        "print(x)"
      ],
      "execution_count": 2,
      "outputs": [
        {
          "output_type": "stream",
          "text": [
            "[[1.+0.j 2.+0.j]\n",
            " [0.+0.j 0.+0.j]\n",
            " [1.+1.j 3.+0.j]]\n"
          ],
          "name": "stdout"
        }
      ]
    },
    {
      "cell_type": "markdown",
      "metadata": {
        "id": "nUITg36_LIPV",
        "colab_type": "text"
      },
      "source": [
        "#使用numpy提供的創建函數直接生成\n"
      ]
    },
    {
      "cell_type": "code",
      "metadata": {
        "id": "mZa3IBHOLSTq",
        "colab_type": "code",
        "colab": {
          "base_uri": "https://localhost:8080/",
          "height": 204
        },
        "outputId": "a379b921-8117-4659-96f3-af1637f23c3c"
      },
      "source": [
        "import numpy as np\n",
        "x=np.zeros((2, 3))\n",
        "y=np.arange(2, 3, 0.1) # start, end, step\n",
        "z=np.linspace(1., 4., 6) # start, end, num\n",
        "w=np.indices((3, 3))\n",
        "print(x)\n",
        "print(y)\n",
        "print(z)\n",
        "print(w)\n"
      ],
      "execution_count": 3,
      "outputs": [
        {
          "output_type": "stream",
          "text": [
            "[[0. 0. 0.]\n",
            " [0. 0. 0.]]\n",
            "[2.  2.1 2.2 2.3 2.4 2.5 2.6 2.7 2.8 2.9]\n",
            "[1.  1.6 2.2 2.8 3.4 4. ]\n",
            "[[[0 0 0]\n",
            "  [1 1 1]\n",
            "  [2 2 2]]\n",
            "\n",
            " [[0 1 2]\n",
            "  [0 1 2]\n",
            "  [0 1 2]]]\n"
          ],
          "name": "stdout"
        }
      ]
    },
    {
      "cell_type": "code",
      "metadata": {
        "id": "QYkz-NLDMTvq",
        "colab_type": "code",
        "colab": {
          "base_uri": "https://localhost:8080/",
          "height": 34
        },
        "outputId": "8a438bc8-9171-40c6-b2fc-766ac0c8978a"
      },
      "source": [
        "import numpy as np\n",
        "\n",
        "z=np.linspace(1., 4., 6) # start, end, num\n",
        "\n",
        "print(z)\n"
      ],
      "execution_count": 4,
      "outputs": [
        {
          "output_type": "stream",
          "text": [
            "[1.  1.6 2.2 2.8 3.4 4. ]\n"
          ],
          "name": "stdout"
        }
      ]
    },
    {
      "cell_type": "code",
      "metadata": {
        "id": "O5xl4_llPeBy",
        "colab_type": "code",
        "colab": {
          "base_uri": "https://localhost:8080/",
          "height": 34
        },
        "outputId": "ff55438f-6e25-4e54-919e-471beb8687c5"
      },
      "source": [
        "import numpy as np\n",
        "\n",
        "#z=np.linspace(1., 4., 6) # start, end, num\n",
        "z=np.linspace(2.0, 3.0, num=5)\n",
        "\n",
        "print(z)"
      ],
      "execution_count": 5,
      "outputs": [
        {
          "output_type": "stream",
          "text": [
            "[2.   2.25 2.5  2.75 3.  ]\n"
          ],
          "name": "stdout"
        }
      ]
    },
    {
      "cell_type": "code",
      "metadata": {
        "id": "c3LYyffAPocC",
        "colab_type": "code",
        "colab": {
          "base_uri": "https://localhost:8080/",
          "height": 34
        },
        "outputId": "90c77aa3-a4f9-4f1b-e620-5595cd6a8315"
      },
      "source": [
        "import numpy as np\n",
        "\n",
        "#z=np.linspace(1., 4., 6) # start, end, num\n",
        "z=np.linspace(2.0, 3.0, num=5, endpoint=False)\n",
        "\n",
        "print(z)"
      ],
      "execution_count": 6,
      "outputs": [
        {
          "output_type": "stream",
          "text": [
            "[2.  2.2 2.4 2.6 2.8]\n"
          ],
          "name": "stdout"
        }
      ]
    },
    {
      "cell_type": "code",
      "metadata": {
        "id": "1GSQHDelPye6",
        "colab_type": "code",
        "colab": {
          "base_uri": "https://localhost:8080/",
          "height": 34
        },
        "outputId": "c3c15968-eed3-4c0d-9e5a-1af4313c3b1d"
      },
      "source": [
        "import numpy as np\n",
        "\n",
        "#z=np.linspace(1., 4., 6) # start, end, num\n",
        "z=np.linspace(2.0, 3.0, num=5, retstep=True)\n",
        "\n",
        "print(z)"
      ],
      "execution_count": 7,
      "outputs": [
        {
          "output_type": "stream",
          "text": [
            "(array([2.  , 2.25, 2.5 , 2.75, 3.  ]), 0.25)\n"
          ],
          "name": "stdout"
        }
      ]
    },
    {
      "cell_type": "markdown",
      "metadata": {
        "id": "RUnVUe82Q9yK",
        "colab_type": "text"
      },
      "source": [
        "#作業1:下列輸出有何不同?\n",
        "\n",
        "np.linspace(2.0, 3.0, num=5)\n",
        "\n",
        "np.linspace(2.0, 3.0, num=5, endpoint=False)\n",
        "\n",
        "np.linspace(2.0, 3.0, num=5, retstep=True)\n",
        "參考資料:\n",
        "\n",
        "https://docs.scipy.org/doc/numpy/reference/generated/numpy.linspace.html"
      ]
    },
    {
      "cell_type": "code",
      "metadata": {
        "id": "hBB70fMlQjTS",
        "colab_type": "code",
        "colab": {
          "base_uri": "https://localhost:8080/",
          "height": 68
        },
        "outputId": "dd846119-3094-4f91-fd74-1823b3083f7c"
      },
      "source": [
        "import numpy as np\n",
        "\n",
        "#z=np.linspace(1., 4., 6) # start, end, num\n",
        "x=np.linspace(2.0, 3.0, num=5)\n",
        "\n",
        "y=np.linspace(2.0, 3.0, num=5, endpoint=False)\n",
        "\n",
        "z=np.linspace(2.0, 3.0, num=5, retstep=True)\n",
        "\n",
        "print(x)\n",
        "print(y)\n",
        "print(z)"
      ],
      "execution_count": 8,
      "outputs": [
        {
          "output_type": "stream",
          "text": [
            "[2.   2.25 2.5  2.75 3.  ]\n",
            "[2.  2.2 2.4 2.6 2.8]\n",
            "(array([2.  , 2.25, 2.5 , 2.75, 3.  ]), 0.25)\n"
          ],
          "name": "stdout"
        }
      ]
    },
    {
      "cell_type": "markdown",
      "metadata": {
        "id": "eyPwwiz0LIHK",
        "colab_type": "text"
      },
      "source": [
        ""
      ]
    }
  ]
}